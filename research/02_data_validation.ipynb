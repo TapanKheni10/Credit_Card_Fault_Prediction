{
 "cells": [
  {
   "cell_type": "code",
   "execution_count": 11,
   "metadata": {},
   "outputs": [
    {
     "data": {
      "text/plain": [
       "'/Users/tapankheni/Data_Science/Data Science Projects/Credit_Card_Fault_Prediction'"
      ]
     },
     "execution_count": 11,
     "metadata": {},
     "output_type": "execute_result"
    }
   ],
   "source": [
    "import os\n",
    "os.chdir(\"../\")\n",
    "%pwd"
   ]
  },
  {
   "cell_type": "code",
   "execution_count": 12,
   "metadata": {},
   "outputs": [],
   "source": [
    "from dataclasses import dataclass\n",
    "from pathlib import Path\n",
    "from typing import List\n",
    "\n",
    "@dataclass \n",
    "class DataValidationConfig:\n",
    "    root_dir: Path\n",
    "    local_data_path: List[str]\n",
    "    STATUS_FILE: str\n",
    "    all_schema: List[dict]"
   ]
  },
  {
   "cell_type": "code",
   "execution_count": 13,
   "metadata": {},
   "outputs": [],
   "source": [
    "from CreditCardFraudDetection.constants import (\n",
    "    PARAMS_YAML_FILE_PATH, CONFIG_YAML_FILE_PATH, SCHEMA_YAML_FILE_PATH\n",
    ")\n",
    "from CreditCardFraudDetection.utils.common import read_yaml, create_directories"
   ]
  },
  {
   "cell_type": "code",
   "execution_count": 18,
   "metadata": {},
   "outputs": [],
   "source": [
    "class ConfigurationManager:\n",
    "    def __init__(self,\n",
    "                 params_yaml_file_path = PARAMS_YAML_FILE_PATH,\n",
    "                 config_yaml_file_path = CONFIG_YAML_FILE_PATH,\n",
    "                 schema_yaml_file_path = SCHEMA_YAML_FILE_PATH):\n",
    "        \n",
    "        self.params = read_yaml(params_yaml_file_path)\n",
    "        self.config = read_yaml(config_yaml_file_path)\n",
    "        self.schema = read_yaml(schema_yaml_file_path)\n",
    "\n",
    "        create_directories([self.config.artifacts_root])\n",
    "\n",
    "    def get_data_validation_config(self) -> DataValidationConfig:\n",
    "        config = self.config.data_validation\n",
    "        schema = [self.schema.COLUMNS_DATA1, self.schema.COLUMNS_DATA2]\n",
    "\n",
    "        create_directories([config.root_dir])\n",
    "\n",
    "        return DataValidationConfig(\n",
    "            root_dir = Path(config.root_dir),\n",
    "            local_data_path = config.local_data_path,\n",
    "            STATUS_FILE = config.STATUS_FILE,\n",
    "            all_schema = schema\n",
    "        )"
   ]
  },
  {
   "cell_type": "code",
   "execution_count": 15,
   "metadata": {},
   "outputs": [],
   "source": [
    "from CreditCardFraudDetection import logger\n",
    "import pandas as pd"
   ]
  },
  {
   "cell_type": "code",
   "execution_count": 19,
   "metadata": {},
   "outputs": [],
   "source": [
    "class DataValidation:\n",
    "    def __init__(self, config: DataValidationConfig):\n",
    "        self.config = config\n",
    "        assert isinstance(self.config.local_data_path, List[str]), \"local_data_path should be a list of strings\"\n",
    "        assert isinstance(self.config.all_schema, List[dict]), \"all_schema should be a list of dictionaries\"\n",
    "        assert len(self.config.local_data_path) == len(self.config.all_schema), \"Mismatch between the number of data files and schema provided\"\n",
    "\n",
    "    def validate_all_columns(self) -> bool:\n",
    "\n",
    "        logger.info(\"Validation process of all columns in the data started...\")\n",
    "        \n",
    "        try:\n",
    "            validation_status = None\n",
    "\n",
    "            i = 0\n",
    "            for data_path in self.config.local_data_path:\n",
    "                data = pd.read_csv(data_path)\n",
    "                schema = self.config.all_schema[i].keys()\n",
    "\n",
    "                data_columns = list(data.columns)\n",
    "\n",
    "                for col in data_columns:\n",
    "                    if col not in schema:\n",
    "                        validation_status = False\n",
    "                        with open(self.config.STATUS_FILE, \"w\") as file:\n",
    "                            file.write(f\"Validation status: {validation_status}\")\n",
    "\n",
    "                        logger.error(f\"Column {col} not in schema for data stored at {data_path}\")\n",
    "                        break\n",
    "                else:\n",
    "                    validation_status = True\n",
    "                    with open(self.config.STATUS_FILE, \"w\") as file:\n",
    "                        file.write(f\"Validation status: {validation_status}\")\n",
    "                \n",
    "                i += 1\n",
    "                \n",
    "            logger.info(\"Validation process of all columns in the data completed.\")\n",
    "            return validation_status\n",
    "            \n",
    "        except Exception as e:\n",
    "            logger.error(f\"Error in validating all columns: {e}\")\n",
    "            raise e"
   ]
  },
  {
   "cell_type": "code",
   "execution_count": 20,
   "metadata": {},
   "outputs": [
    {
     "name": "stdout",
     "output_type": "stream",
     "text": [
      "[2024-07-05 13:55:26,183: INFO: common: yaml file: params.yaml loaded successfully]\n",
      "[2024-07-05 13:55:26,186: INFO: common: yaml file: config/config.yaml loaded successfully]\n",
      "[2024-07-05 13:55:26,191: INFO: common: yaml file: schema.yaml loaded successfully]\n",
      "[2024-07-05 13:55:26,191: INFO: common: created directory at: artifacts]\n",
      "[2024-07-05 13:55:26,192: INFO: common: created directory at: artifacts/data_validation]\n"
     ]
    }
   ],
   "source": [
    "try:\n",
    "    config_manager = ConfigurationManager()\n",
    "    data_validation_config = config_manager.get_data_validation_config()\n",
    "    data_validation = DataValidation(config = data_validation_config)\n",
    "    data_validation.validate_all_columns()\n",
    "\n",
    "except Exception as e:\n",
    "    logger.error(f\"Error in validating all columns: {e}\")\n",
    "    raise e"
   ]
  },
  {
   "cell_type": "code",
   "execution_count": null,
   "metadata": {},
   "outputs": [],
   "source": []
  }
 ],
 "metadata": {
  "kernelspec": {
   "display_name": "creditfault",
   "language": "python",
   "name": "python3"
  },
  "language_info": {
   "codemirror_mode": {
    "name": "ipython",
    "version": 3
   },
   "file_extension": ".py",
   "mimetype": "text/x-python",
   "name": "python",
   "nbconvert_exporter": "python",
   "pygments_lexer": "ipython3",
   "version": "3.11.5"
  }
 },
 "nbformat": 4,
 "nbformat_minor": 2
}
