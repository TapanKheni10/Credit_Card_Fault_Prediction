{
 "cells": [
  {
   "cell_type": "code",
   "execution_count": 1,
   "metadata": {},
   "outputs": [
    {
     "data": {
      "text/plain": [
       "'/Users/tapankheni/Data_Science/Data Science Projects/Credit_Card_Fault_Prediction'"
      ]
     },
     "execution_count": 1,
     "metadata": {},
     "output_type": "execute_result"
    }
   ],
   "source": [
    "import os\n",
    "os.chdir(\"../\")\n",
    "%pwd"
   ]
  },
  {
   "cell_type": "code",
   "execution_count": 12,
   "metadata": {},
   "outputs": [],
   "source": [
    "from dataclasses import dataclass\n",
    "from pathlib import Path\n",
    "from typing import List\n",
    "\n",
    "@dataclass\n",
    "class ModelEvaluationConfig:\n",
    "    root_dir: Path\n",
    "    model_path: List[str]\n",
    "    x_test_data_path: List[str]\n",
    "    y_test_data_path: List[str]\n",
    "    evaluation_report: List[str]"
   ]
  },
  {
   "cell_type": "code",
   "execution_count": 8,
   "metadata": {},
   "outputs": [],
   "source": [
    "from CreditCardFraudDetection.constants import (\n",
    "    PARAMS_YAML_FILE_PATH, CONFIG_YAML_FILE_PATH, SCHEMA_YAML_FILE_PATH\n",
    ")\n",
    "from CreditCardFraudDetection.utils.common import read_yaml, create_directories, save_json"
   ]
  },
  {
   "cell_type": "code",
   "execution_count": 13,
   "metadata": {},
   "outputs": [],
   "source": [
    "class ConfigurationManager:\n",
    "    def __init__(self,\n",
    "                 params_yaml_file_path = PARAMS_YAML_FILE_PATH,\n",
    "                 config_yaml_file_path = CONFIG_YAML_FILE_PATH,\n",
    "                 schema_yaml_file_path = SCHEMA_YAML_FILE_PATH):\n",
    "        \n",
    "        self.params = read_yaml(params_yaml_file_path)\n",
    "        self.config = read_yaml(config_yaml_file_path)\n",
    "        self.schema = read_yaml(schema_yaml_file_path)\n",
    "\n",
    "        create_directories([self.config.artifacts_root])\n",
    "\n",
    "    def get_model_evaluation_config(self) -> ModelEvaluationConfig:\n",
    "        config = self.config.model_evaluation\n",
    "\n",
    "        create_directories([config.root_dir])\n",
    "\n",
    "        return ModelEvaluationConfig(\n",
    "            root_dir = Path(config.root_dir),\n",
    "            model_path = config.model_path,\n",
    "            x_test_data_path = config.x_test_data_path,\n",
    "            y_test_data_path = config.y_test_data_path,\n",
    "            evaluation_report = config.evaluation_report\n",
    "        )"
   ]
  },
  {
   "cell_type": "code",
   "execution_count": 14,
   "metadata": {},
   "outputs": [],
   "source": [
    "import pandas as pd \n",
    "import numpy as np\n",
    "from sklearn.metrics import classification_report, confusion_matrix, accuracy_score, precision_score, recall_score, f1_score, roc_auc_score\n",
    "import joblib\n",
    "import os\n",
    "from CreditCardFraudDetection import logger"
   ]
  },
  {
   "cell_type": "code",
   "execution_count": 19,
   "metadata": {},
   "outputs": [],
   "source": [
    "class ModelEvaluation:\n",
    "    def __init__(self, config: ModelEvaluationConfig):\n",
    "        self.config = config\n",
    "\n",
    "    def calculate_metrics(self, y_true, y_pred, y_prob):\n",
    "        accuracy = accuracy_score(y_true, y_pred)\n",
    "        precision = precision_score(y_true, y_pred)\n",
    "        recall = recall_score(y_true, y_pred)\n",
    "        f1 = f1_score(y_true, y_pred)\n",
    "        roc_auc = roc_auc_score(y_true, y_prob)\n",
    "\n",
    "        return accuracy, precision, recall, f1, roc_auc\n",
    "    \n",
    "    def evaluate_model(self, model_number: int):\n",
    "        assert model_number in [1, 2], \"Invalid model number, It should be 1 or 2\"\n",
    "\n",
    "        X_test = np.load(self.config.x_test_data_path[model_number - 1])\n",
    "        y_test = np.load(self.config.y_test_data_path[model_number - 1])\n",
    "        logger.info(f\"Loaded test data for model {model_number}\")\n",
    "\n",
    "        model = joblib.load(self.config.model_path[model_number - 1])\n",
    "        logger.info(f\"Loaded model {model_number}\")\n",
    "\n",
    "        y_pred = model.predict(X_test)\n",
    "        y_prob = model.predict_proba(X_test)[:, 1]\n",
    "        logger.info(f\"Predictions for model {model_number} done\")\n",
    "\n",
    "        accuracy, precision, recall, f1, roc_auc = self.calculate_metrics(y_test, y_pred, y_prob)\n",
    "        logger.info(f\"Metrics calculated for model {model_number}\")\n",
    "\n",
    "        scores = {\n",
    "            \"accuracy_score\": accuracy,\n",
    "            \"precision_score\": precision,\n",
    "            \"recall_score\": recall,\n",
    "            \"f1_score\": f1,\n",
    "            \"roc_auc_score\": roc_auc\n",
    "        }\n",
    "\n",
    "        if not os.path.exists(self.config.evaluation_report[model_number - 1]):\n",
    "            os.makedirs(self.config.evaluation_report[model_number - 1])\n",
    "            \n",
    "        save_json(path = Path(os.path.join(self.config.evaluation_report[model_number - 1], \"metrics.json\")), data = scores)\n",
    "        np.save(os.path.join(self.config.evaluation_report[model_number - 1], \"y_pred.npy\"), y_pred)\n",
    "        np.save(os.path.join(self.config.evaluation_report[model_number - 1], \"y_prob.npy\"), y_prob)\n",
    "        logger.info(f\"Metrics saved for model {model_number}\")\n",
    "\n",
    "        "
   ]
  },
  {
   "cell_type": "code",
   "execution_count": 20,
   "metadata": {},
   "outputs": [
    {
     "name": "stdout",
     "output_type": "stream",
     "text": [
      "[2024-07-05 21:05:14,757: INFO: common: yaml file: params.yaml loaded successfully]\n",
      "[2024-07-05 21:05:14,762: INFO: common: yaml file: config/config.yaml loaded successfully]\n",
      "[2024-07-05 21:05:14,766: INFO: common: yaml file: schema.yaml loaded successfully]\n",
      "[2024-07-05 21:05:14,766: INFO: common: created directory at: artifacts]\n",
      "[2024-07-05 21:05:14,767: INFO: common: created directory at: artifacts/model_evaluation]\n",
      "[2024-07-05 21:05:14,776: INFO: 3089079914: Loaded test data for model 1]\n",
      "[2024-07-05 21:05:14,791: INFO: 3089079914: Loaded model 1]\n",
      "[2024-07-05 21:06:15,984: INFO: 3089079914: Predictions for model 1 done]\n",
      "[2024-07-05 21:06:16,146: INFO: 3089079914: Metrics calculated for model 1]\n",
      "[2024-07-05 21:06:16,147: INFO: common: json file saved at: artifacts/model_evaluation/fraudulent_transection/metrics.json]\n",
      "[2024-07-05 21:06:16,155: INFO: 3089079914: Metrics saved for model 1]\n",
      "[2024-07-05 21:06:16,159: INFO: 3089079914: Loaded test data for model 2]\n",
      "[2024-07-05 21:06:16,174: INFO: 3089079914: Loaded model 2]\n",
      "[2024-07-05 21:06:16,188: INFO: 3089079914: Predictions for model 2 done]\n",
      "[2024-07-05 21:06:16,202: INFO: 3089079914: Metrics calculated for model 2]\n",
      "[2024-07-05 21:06:16,203: INFO: common: json file saved at: artifacts/model_evaluation/default_on_payment/metrics.json]\n",
      "[2024-07-05 21:06:16,204: INFO: 3089079914: Metrics saved for model 2]\n"
     ]
    }
   ],
   "source": [
    "try:\n",
    "    config_manager = ConfigurationManager()\n",
    "    model_evaluation_config = config_manager.get_model_evaluation_config()\n",
    "    model_evaluation = ModelEvaluation(config = model_evaluation_config)\n",
    "\n",
    "    model_evaluation.evaluate_model(model_number = 1)\n",
    "    model_evaluation.evaluate_model(model_number = 2)\n",
    "\n",
    "except Exception as e:\n",
    "    logger.error(e)\n",
    "    raise e"
   ]
  },
  {
   "cell_type": "code",
   "execution_count": null,
   "metadata": {},
   "outputs": [],
   "source": []
  }
 ],
 "metadata": {
  "kernelspec": {
   "display_name": "creditfault",
   "language": "python",
   "name": "python3"
  },
  "language_info": {
   "codemirror_mode": {
    "name": "ipython",
    "version": 3
   },
   "file_extension": ".py",
   "mimetype": "text/x-python",
   "name": "python",
   "nbconvert_exporter": "python",
   "pygments_lexer": "ipython3",
   "version": "3.11.5"
  }
 },
 "nbformat": 4,
 "nbformat_minor": 2
}
