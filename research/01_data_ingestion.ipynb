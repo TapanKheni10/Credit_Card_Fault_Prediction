{
 "cells": [
  {
   "cell_type": "code",
   "execution_count": 1,
   "metadata": {},
   "outputs": [
    {
     "data": {
      "text/plain": [
       "'/Users/tapankheni/Data_Science/Data Science Projects/Credit_Card_Fault_Prediction'"
      ]
     },
     "execution_count": 1,
     "metadata": {},
     "output_type": "execute_result"
    }
   ],
   "source": [
    "import os\n",
    "os.chdir(\"../\")\n",
    "%pwd"
   ]
  },
  {
   "cell_type": "code",
   "execution_count": 2,
   "metadata": {},
   "outputs": [],
   "source": [
    "\n",
    "from dataclasses import dataclass\n",
    "from pathlib import Path\n",
    "from typing import List\n",
    "\n",
    "@dataclass\n",
    "class DataIngestionConfig:\n",
    "    root_dir: Path\n",
    "    local_data_path: List[str]\n"
   ]
  },
  {
   "cell_type": "code",
   "execution_count": 3,
   "metadata": {},
   "outputs": [],
   "source": [
    "from CreditCardFraudDetection.constants import (\n",
    "    PARAMS_YAML_FILE_PATH, CONFIG_YAML_FILE_PATH, SCHEMA_YAML_FILE_PATH,\n",
    "    MONGO_DB_URL, MONGO_DB_DATABASE_NAME, MONGO_DB_COLLECTION_NAME)\n",
    "from CreditCardFraudDetection.utils.common import read_yaml, create_directories"
   ]
  },
  {
   "cell_type": "code",
   "execution_count": 4,
   "metadata": {},
   "outputs": [],
   "source": [
    "class ConfigurationManager:\n",
    "    def __init__(self,\n",
    "                 params_yaml_file_path: Path = PARAMS_YAML_FILE_PATH,\n",
    "                 config_yaml_file_path: Path = CONFIG_YAML_FILE_PATH,\n",
    "                 schema_yaml_file_path: Path = SCHEMA_YAML_FILE_PATH):\n",
    "        \n",
    "        self.params = read_yaml(params_yaml_file_path)\n",
    "        self.config = read_yaml(config_yaml_file_path)\n",
    "        self.schema = read_yaml(schema_yaml_file_path)\n",
    "\n",
    "        create_directories([self.config.artifacts_root])\n",
    "\n",
    "    def get_data_ingestion_config(self) -> DataIngestionConfig:\n",
    "        config = self.config.data_ingestion\n",
    "        create_directories([config.root_dir])\n",
    "\n",
    "        return DataIngestionConfig(\n",
    "            root_dir = Path(config.root_dir),\n",
    "            local_data_path = config.local_data_path\n",
    "        )"
   ]
  },
  {
   "cell_type": "code",
   "execution_count": 5,
   "metadata": {},
   "outputs": [],
   "source": [
    "import pandas as pd\n",
    "import numpy as np\n",
    "from pymongo import MongoClient\n",
    "from CreditCardFraudDetection import logger\n",
    "from CreditCardFraudDetection.utils.common import get_size"
   ]
  },
  {
   "cell_type": "code",
   "execution_count": 6,
   "metadata": {},
   "outputs": [],
   "source": [
    "class DataIngestion:\n",
    "    def __init__(self, config: DataIngestionConfig):\n",
    "        self.config = config\n",
    "\n",
    "    def export_collection_as_dataframe(self, collection_name: str) -> pd.DataFrame:\n",
    "        logger.info(\"Exporting MongoDB collection to DataFrame\")\n",
    "        client = MongoClient(MONGO_DB_URL)\n",
    "        collection = client[MONGO_DB_DATABASE_NAME][collection_name]\n",
    "\n",
    "        try:\n",
    "            client.server_info()\n",
    "            logger.info(\"Connected to MongoDB\")\n",
    "        except Exception as e:\n",
    "            logger.error(f\"Connection failed: {e}\")\n",
    "            return pd.DataFrame()\n",
    "        \n",
    "        number_of_documents = collection.count_documents({})\n",
    "        logger.info(f\"Number of documents in collection {collection_name}: {number_of_documents}\")\n",
    "\n",
    "        try:\n",
    "            data = list(collection.find())\n",
    "            logger.info(f\"Data retrieved from collection {data[:2]}\")\n",
    "        except Exception as e:\n",
    "            logger.error(f\"Failed to retrieve data from collection: {e}\")\n",
    "            return pd.DataFrame()\n",
    "        \n",
    "        df = pd.DataFrame(data)\n",
    "\n",
    "        logger.info(f\"DataFrame columns: {df.columns.to_list()}\")\n",
    "\n",
    "        if \"_id\" in df.columns.to_list():\n",
    "            df.drop(columns=[\"_id\"], axis=1, inplace=True)\n",
    "        \n",
    "        logger.info(f\"DataFrame columns: {df.columns.to_list()}\")\n",
    "\n",
    "        logger.info(f\"DataFrame shape: {df.shape}\")\n",
    "        logger.info(\"Data retrieved successfully\")\n",
    "\n",
    "        client.close()\n",
    "\n",
    "        return df\n",
    "    \n",
    "    def export_data_to_file_path(self):\n",
    "        logger.info(\"Exporting data from mongoDB to store it into the desired artifacts.\")\n",
    "\n",
    "        i = 0\n",
    "        for collection_name in MONGO_DB_COLLECTION_NAME:\n",
    "            logger.info(f\"Exporting data from collection {collection_name}\")\n",
    "            \n",
    "            df = self.export_collection_as_dataframe(collection_name)\n",
    "\n",
    "            logger.info(f\"Exporting data to {self.config.root_dir}\")\n",
    "\n",
    "            file_path = Path(self.config.local_data_path[i])\n",
    "            if not os.path.exists(file_path):\n",
    "                df.to_csv(file_path, index=False)\n",
    "\n",
    "                logger.info(f\"exported data from mongoDB to {file_path}\")\n",
    "            else:\n",
    "                logger.info(f\"file already exists at {file_path} of size {get_size(file_path)}\")\n",
    "            \n",
    "            i += 1\n",
    "\n",
    "    def initiate_data_ingestion(self):\n",
    "        logger.info(\"data ingestion process initiated.\")\n",
    "\n",
    "        self.export_data_to_file_path()\n",
    "\n",
    "        logger.info(\"data ingestion process completed.\")"
   ]
  },
  {
   "cell_type": "code",
   "execution_count": 7,
   "metadata": {},
   "outputs": [
    {
     "name": "stdout",
     "output_type": "stream",
     "text": [
      "[2024-07-05 13:49:35,964: INFO: common: yaml file: params.yaml loaded successfully]\n",
      "[2024-07-05 13:49:35,968: INFO: common: yaml file: config/config.yaml loaded successfully]\n",
      "[2024-07-05 13:49:35,972: INFO: common: yaml file: schema.yaml loaded successfully]\n",
      "[2024-07-05 13:49:35,972: INFO: common: created directory at: artifacts]\n",
      "[2024-07-05 13:49:35,973: INFO: common: created directory at: artifacts/data_ingestion]\n",
      "[2024-07-05 13:49:35,973: INFO: 4041267636: data ingestion process initiated.]\n",
      "[2024-07-05 13:49:35,973: INFO: 4041267636: Exporting data from mongoDB to store it into the desired artifacts.]\n",
      "[2024-07-05 13:49:35,974: INFO: 4041267636: Exporting data from collection fraudulent_transactions_data]\n",
      "[2024-07-05 13:49:35,974: INFO: 4041267636: Exporting MongoDB collection to DataFrame]\n",
      "[2024-07-05 13:49:37,057: INFO: 4041267636: Connected to MongoDB]\n",
      "[2024-07-05 13:49:37,348: INFO: 4041267636: Number of documents in collection fraudulent_transactions_data: 568630]\n",
      "[2024-07-05 13:50:53,724: INFO: 4041267636: Data retrieved from collection [{'_id': ObjectId('668796b2e986615dd1b95ec5'), 'V1': -0.2606478048943981, 'V2': -0.4696484500536342, 'V3': 2.4962660826315637, 'V4': -0.0837239126781463, 'V5': 0.1296812361545678, 'V6': 0.7328982498449426, 'V7': 0.5190136179018007, 'V8': -0.1300060475886773, 'V9': 0.7271592691096374, 'V10': 0.6377345411881967, 'V11': -0.987020009879984, 'V12': 0.2934381004820159, 'V13': -0.941386125092944, 'V14': 0.5490198936308889, 'V15': 1.8048785784684265, 'V16': 0.2155979938725388, 'V17': 0.5123066605849524, 'V18': 0.3336437173298195, 'V19': 0.1242701563540847, 'V20': 0.091201898816507, 'V21': -0.1105516796101296, 'V22': 0.2176061438295, 'V23': -0.1347944948772723, 'V24': 0.1659591154312752, 'V25': 0.1262799761446219, 'V26': -0.4348239807537432, 'V27': -0.0812301086016675, 'V28': -0.1510454864555771, 'Amount': 17982.1, 'Class': 0}, {'_id': ObjectId('668796b2e986615dd1b95ec6'), 'V1': 0.9850997342386376, 'V2': -0.3560450929163436, 'V3': 0.5580563509382045, 'V4': -0.4296539034065106, 'V5': 0.2771402629466986, 'V6': 0.4286045153379263, 'V7': 0.4064660422512956, 'V8': -0.1331182741764908, 'V9': 0.3474518951767279, 'V10': 0.5298079844330024, 'V11': 0.1401073307195193, 'V12': 1.56424576778617, 'V13': 0.5740740122153044, 'V14': 0.6277187366771656, 'V15': 0.7061213272690174, 'V16': 0.7891883649573925, 'V17': 0.4038098816270112, 'V18': 0.2017993724669023, 'V19': -0.3406870994105202, 'V20': -0.2339841559621429, 'V21': -0.1949359637531073, 'V22': -0.6057609055521909, 'V23': 0.0794690758237613, 'V24': -0.5773948740161742, 'V25': 0.1900897076741061, 'V26': 0.2965027040269081, 'V27': -0.2480520585770494, 'V28': -0.0645119229692018, 'Amount': 6531.37, 'Class': 0}]]\n",
      "[2024-07-05 13:50:55,540: INFO: 4041267636: DataFrame columns: ['_id', 'V1', 'V2', 'V3', 'V4', 'V5', 'V6', 'V7', 'V8', 'V9', 'V10', 'V11', 'V12', 'V13', 'V14', 'V15', 'V16', 'V17', 'V18', 'V19', 'V20', 'V21', 'V22', 'V23', 'V24', 'V25', 'V26', 'V27', 'V28', 'Amount', 'Class']]\n",
      "[2024-07-05 13:50:55,568: INFO: 4041267636: DataFrame columns: ['V1', 'V2', 'V3', 'V4', 'V5', 'V6', 'V7', 'V8', 'V9', 'V10', 'V11', 'V12', 'V13', 'V14', 'V15', 'V16', 'V17', 'V18', 'V19', 'V20', 'V21', 'V22', 'V23', 'V24', 'V25', 'V26', 'V27', 'V28', 'Amount', 'Class']]\n",
      "[2024-07-05 13:50:55,569: INFO: 4041267636: DataFrame shape: (568630, 30)]\n",
      "[2024-07-05 13:50:55,569: INFO: 4041267636: Data retrieved successfully]\n",
      "[2024-07-05 13:50:55,883: INFO: 4041267636: Exporting data to artifacts/data_ingestion]\n",
      "[2024-07-05 13:51:04,919: INFO: 4041267636: exported data from mongoDB to artifacts/data_ingestion/creditcard.csv]\n",
      "[2024-07-05 13:51:04,919: INFO: 4041267636: Exporting data from collection default_credit_card_data]\n",
      "[2024-07-05 13:51:04,920: INFO: 4041267636: Exporting MongoDB collection to DataFrame]\n",
      "[2024-07-05 13:51:05,501: INFO: 4041267636: Connected to MongoDB]\n",
      "[2024-07-05 13:51:05,569: INFO: 4041267636: Number of documents in collection default_credit_card_data: 30000]\n",
      "[2024-07-05 13:51:11,606: INFO: 4041267636: Data retrieved from collection [{'_id': ObjectId('668797bce986615dd1c20bfb'), 'LIMIT_BAL': 20000.0, 'SEX': 2, 'EDUCATION': 2, 'MARRIAGE': 1, 'AGE': 24, 'PAY_0': 2, 'PAY_2': 2, 'PAY_3': -1, 'PAY_4': -1, 'PAY_5': -2, 'PAY_6': -2, 'BILL_AMT1': 3913.0, 'BILL_AMT2': 3102.0, 'BILL_AMT3': 689.0, 'BILL_AMT4': 0.0, 'BILL_AMT5': 0.0, 'BILL_AMT6': 0.0, 'PAY_AMT1': 0.0, 'PAY_AMT2': 689.0, 'PAY_AMT3': 0.0, 'PAY_AMT4': 0.0, 'PAY_AMT5': 0.0, 'PAY_AMT6': 0.0, 'default.payment.next.month': 1}, {'_id': ObjectId('668797bce986615dd1c20bfc'), 'LIMIT_BAL': 120000.0, 'SEX': 2, 'EDUCATION': 2, 'MARRIAGE': 2, 'AGE': 26, 'PAY_0': -1, 'PAY_2': 2, 'PAY_3': 0, 'PAY_4': 0, 'PAY_5': 0, 'PAY_6': 2, 'BILL_AMT1': 2682.0, 'BILL_AMT2': 1725.0, 'BILL_AMT3': 2682.0, 'BILL_AMT4': 3272.0, 'BILL_AMT5': 3455.0, 'BILL_AMT6': 3261.0, 'PAY_AMT1': 0.0, 'PAY_AMT2': 1000.0, 'PAY_AMT3': 1000.0, 'PAY_AMT4': 1000.0, 'PAY_AMT5': 0.0, 'PAY_AMT6': 2000.0, 'default.payment.next.month': 1}]]\n",
      "[2024-07-05 13:51:11,675: INFO: 4041267636: DataFrame columns: ['_id', 'LIMIT_BAL', 'SEX', 'EDUCATION', 'MARRIAGE', 'AGE', 'PAY_0', 'PAY_2', 'PAY_3', 'PAY_4', 'PAY_5', 'PAY_6', 'BILL_AMT1', 'BILL_AMT2', 'BILL_AMT3', 'BILL_AMT4', 'BILL_AMT5', 'BILL_AMT6', 'PAY_AMT1', 'PAY_AMT2', 'PAY_AMT3', 'PAY_AMT4', 'PAY_AMT5', 'PAY_AMT6', 'default.payment.next.month']]\n",
      "[2024-07-05 13:51:11,677: INFO: 4041267636: DataFrame columns: ['LIMIT_BAL', 'SEX', 'EDUCATION', 'MARRIAGE', 'AGE', 'PAY_0', 'PAY_2', 'PAY_3', 'PAY_4', 'PAY_5', 'PAY_6', 'BILL_AMT1', 'BILL_AMT2', 'BILL_AMT3', 'BILL_AMT4', 'BILL_AMT5', 'BILL_AMT6', 'PAY_AMT1', 'PAY_AMT2', 'PAY_AMT3', 'PAY_AMT4', 'PAY_AMT5', 'PAY_AMT6', 'default.payment.next.month']]\n",
      "[2024-07-05 13:51:11,677: INFO: 4041267636: DataFrame shape: (30000, 24)]\n",
      "[2024-07-05 13:51:11,678: INFO: 4041267636: Data retrieved successfully]\n",
      "[2024-07-05 13:51:11,734: INFO: 4041267636: Exporting data to artifacts/data_ingestion]\n",
      "[2024-07-05 13:51:11,873: INFO: 4041267636: exported data from mongoDB to artifacts/data_ingestion/default.csv]\n",
      "[2024-07-05 13:51:11,873: INFO: 4041267636: data ingestion process completed.]\n"
     ]
    }
   ],
   "source": [
    "try:\n",
    "    config_manager = ConfigurationManager()\n",
    "    data_ingestion_config = config_manager.get_data_ingestion_config()\n",
    "    data_ingestion = DataIngestion(config=data_ingestion_config)\n",
    "    data_ingestion.initiate_data_ingestion()\n",
    "except Exception as e:\n",
    "    logger.error(f\"Error in data ingestion: {str(e)}\")"
   ]
  },
  {
   "cell_type": "code",
   "execution_count": null,
   "metadata": {},
   "outputs": [],
   "source": []
  }
 ],
 "metadata": {
  "kernelspec": {
   "display_name": "creditfault",
   "language": "python",
   "name": "python3"
  },
  "language_info": {
   "codemirror_mode": {
    "name": "ipython",
    "version": 3
   },
   "file_extension": ".py",
   "mimetype": "text/x-python",
   "name": "python",
   "nbconvert_exporter": "python",
   "pygments_lexer": "ipython3",
   "version": "3.11.5"
  }
 },
 "nbformat": 4,
 "nbformat_minor": 2
}
